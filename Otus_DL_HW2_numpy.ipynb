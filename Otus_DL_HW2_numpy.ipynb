{
  "nbformat": 4,
  "nbformat_minor": 0,
  "metadata": {
    "colab": {
      "provenance": [],
      "collapsed_sections": []
    },
    "kernelspec": {
      "name": "python3",
      "display_name": "Python 3"
    },
    "language_info": {
      "name": "python"
    }
  },
  "cells": [
    {
      "cell_type": "markdown",
      "source": [
        "**Задание:** используя np.random научиться сэмплировать случайные точки из двумерного нормального распределения. В качестве параметров двух разных нормальных распределений взять mu_0=(-1, -1) и mu_1 = (1, 1), с единичными дисперсиями.\n",
        "\n",
        "**Пояснение:** у нас есть 2 класса - 0 и 1. 0 (нули) подчиняются двумерному распределению с mu_0=(-1, -1) и дисперсией 1, а 1 (единицы) подчиняются двумерному распределению с mu_1 = (1, 1) и дисперсией 1. Это то, что мы будем предсказывать. \n",
        "\n",
        "Пример - сгенерим 500 нулей:\n",
        "\n",
        "*rng = np.random.default_rng()*\n",
        "\n",
        "*data_0 = np.concatenate([rng.normal((-1, -1), 1, (500, 2)), np.zeros((500, 1))], axis=1)*\n",
        "\n",
        "То есть получается, что на выходе у нас каждую метку (0 или 1) будут характеризовать пара чисел из двумерного нормального распределения, и эту пару чисел (это одномерный массив) мы будем подавать в сетку."
      ],
      "metadata": {
        "id": "eBkO6A2sMWNg"
      }
    },
    {
      "cell_type": "code",
      "source": [
        "import numpy as np\n",
        "import matplotlib.pyplot as plt\n",
        "from sklearn.metrics import accuracy_score"
      ],
      "metadata": {
        "id": "MdvTN5mXMcjw"
      },
      "execution_count": null,
      "outputs": []
    },
    {
      "cell_type": "markdown",
      "source": [
        "Создаем два массива:"
      ],
      "metadata": {
        "id": "JnEoiI2g_5pg"
      }
    },
    {
      "cell_type": "code",
      "source": [
        "rng = np.random.default_rng()\n",
        "data_0 = np.concatenate([rng.normal((-1, -1), 1, (50, 2)), np.zeros((50, 1))], axis=1)"
      ],
      "metadata": {
        "id": "bCyogweIMz89"
      },
      "execution_count": null,
      "outputs": []
    },
    {
      "cell_type": "code",
      "source": [
        "rng = np.random.default_rng()\n",
        "data_1 = np.concatenate([rng.normal((1, 1), 1, (50, 2)), np.ones((50, 1))], axis=1)"
      ],
      "metadata": {
        "id": "Gi3CAqqIOpyu"
      },
      "execution_count": null,
      "outputs": []
    },
    {
      "cell_type": "markdown",
      "source": [
        "Получаем массив такой же размерности из случайно взятых элементов этих двух массивов:"
      ],
      "metadata": {
        "id": "jUqGbSsC_8sn"
      }
    },
    {
      "cell_type": "code",
      "source": [
        "def random_mix(X, Y):\n",
        "    c = np.concatenate((X, Y))\n",
        "    np.random.shuffle(c)\n",
        "    return c"
      ],
      "metadata": {
        "id": "3kJV4Ii4etk-"
      },
      "execution_count": null,
      "outputs": []
    },
    {
      "cell_type": "code",
      "source": [
        "data = random_mix(data_0, data_1)\n",
        "print(data)"
      ],
      "metadata": {
        "id": "4RXC5aGHeyFo",
        "colab": {
          "base_uri": "https://localhost:8080/"
        },
        "outputId": "1fb14e15-c2fe-4589-eee5-d36664e8488b"
      },
      "execution_count": null,
      "outputs": [
        {
          "output_type": "stream",
          "name": "stdout",
          "text": [
            "[[ 1.34767594e+00 -2.28069497e+00  0.00000000e+00]\n",
            " [ 1.22669220e+00  2.31431347e+00  1.00000000e+00]\n",
            " [-4.89953319e-02  1.30737973e+00  1.00000000e+00]\n",
            " [ 9.01712979e-01 -6.26785356e-01  1.00000000e+00]\n",
            " [-1.07126978e-01  2.65173088e-01  1.00000000e+00]\n",
            " [-3.24459020e+00 -1.17718463e+00  0.00000000e+00]\n",
            " [ 3.47871780e-01 -9.51394585e-01  0.00000000e+00]\n",
            " [ 1.97499562e+00  2.83105940e-01  1.00000000e+00]\n",
            " [-1.00726621e+00 -2.33754138e+00  0.00000000e+00]\n",
            " [-9.18287377e-01 -1.95662202e+00  0.00000000e+00]\n",
            " [-9.81004701e-01 -1.13331986e+00  0.00000000e+00]\n",
            " [ 1.01743272e+00 -5.15593759e-01  1.00000000e+00]\n",
            " [ 1.58799992e+00 -1.16481525e+00  1.00000000e+00]\n",
            " [ 2.99481210e-01 -4.03655813e-01  0.00000000e+00]\n",
            " [-8.59261878e-01 -2.08972722e+00  0.00000000e+00]\n",
            " [-8.88412622e-01  4.01556507e-01  0.00000000e+00]\n",
            " [-1.20672722e+00 -2.78681701e+00  0.00000000e+00]\n",
            " [-1.58607599e+00 -6.64018218e-02  0.00000000e+00]\n",
            " [-4.96947798e-01 -3.80284331e-01  0.00000000e+00]\n",
            " [-8.52356522e-01  1.28522620e+00  1.00000000e+00]\n",
            " [-2.19483204e+00  7.88265782e-01  0.00000000e+00]\n",
            " [ 1.45712409e-01  1.21157345e+00  1.00000000e+00]\n",
            " [-1.15301539e+00 -3.18309037e-01  0.00000000e+00]\n",
            " [-3.77139445e-01 -2.26068024e+00  0.00000000e+00]\n",
            " [ 1.69957158e+00  1.00602741e+00  1.00000000e+00]\n",
            " [-1.17401435e+00 -3.67263974e-01  0.00000000e+00]\n",
            " [ 8.67430375e-01  7.39118084e-01  1.00000000e+00]\n",
            " [-4.00955613e-01  3.71549132e-01  0.00000000e+00]\n",
            " [ 1.84767774e-01 -8.58889599e-01  0.00000000e+00]\n",
            " [-1.25374818e+00 -3.18231331e-01  0.00000000e+00]\n",
            " [ 2.41992967e+00 -6.73632486e-01  1.00000000e+00]\n",
            " [ 4.07967053e-01 -1.34846750e-01  1.00000000e+00]\n",
            " [-1.78717177e+00  2.13225952e+00  1.00000000e+00]\n",
            " [ 3.02298891e-03 -2.54171465e-01  0.00000000e+00]\n",
            " [-2.15476058e+00 -2.43444442e+00  0.00000000e+00]\n",
            " [ 1.34820714e+00  5.79617099e-01  1.00000000e+00]\n",
            " [-8.83920086e-01 -7.63300571e-01  0.00000000e+00]\n",
            " [-7.21143768e-01  2.63857142e+00  1.00000000e+00]\n",
            " [-2.02164054e+00 -4.36890788e-01  0.00000000e+00]\n",
            " [ 2.05768366e+00  6.55381531e-01  1.00000000e+00]\n",
            " [-1.05590512e+00  9.88350066e-01  1.00000000e+00]\n",
            " [ 9.03295708e-01  7.58379756e-01  1.00000000e+00]\n",
            " [ 3.31780662e-01 -1.20873901e+00  0.00000000e+00]\n",
            " [ 2.18895668e+00  1.13715534e+00  1.00000000e+00]\n",
            " [ 1.66073293e-01  6.12068727e-01  0.00000000e+00]\n",
            " [ 6.96879675e-01  7.03078773e-01  1.00000000e+00]\n",
            " [-2.76934163e-01 -1.16217158e+00  0.00000000e+00]\n",
            " [-1.49467130e+00  7.04982196e-01  0.00000000e+00]\n",
            " [-4.75810610e-01 -1.13017320e-01  1.00000000e+00]\n",
            " [ 1.64422235e+00  7.79170646e-01  1.00000000e+00]\n",
            " [ 1.72794213e+00  5.04805459e-01  1.00000000e+00]\n",
            " [-8.43116725e-01 -2.14690852e+00  0.00000000e+00]\n",
            " [-2.64430371e+00 -1.94730022e+00  0.00000000e+00]\n",
            " [-1.24028702e+00 -2.68018065e+00  0.00000000e+00]\n",
            " [ 2.13863043e+00  1.46398008e+00  1.00000000e+00]\n",
            " [ 1.65313276e+00  1.27045192e+00  1.00000000e+00]\n",
            " [-1.00231636e+00 -1.98582380e+00  0.00000000e+00]\n",
            " [-2.75756347e+00 -1.23692293e+00  0.00000000e+00]\n",
            " [-2.02910568e-01  2.67352192e+00  1.00000000e+00]\n",
            " [-1.43089697e+00 -1.10822749e+00  0.00000000e+00]\n",
            " [ 2.80978837e-01  9.06506703e-01  1.00000000e+00]\n",
            " [-5.85748096e-01  9.86509550e-01  1.00000000e+00]\n",
            " [ 1.34441020e+00  1.10774803e+00  1.00000000e+00]\n",
            " [-1.90185642e+00 -5.48086540e-01  0.00000000e+00]\n",
            " [ 2.89777187e-01  3.73269093e-02  0.00000000e+00]\n",
            " [ 1.29119789e+00  5.52818696e-01  1.00000000e+00]\n",
            " [ 1.36933017e+00  1.09812675e+00  1.00000000e+00]\n",
            " [-2.57200428e-01  1.23325365e+00  1.00000000e+00]\n",
            " [ 2.08160307e+00  1.94336103e-01  1.00000000e+00]\n",
            " [-1.98338374e+00 -1.74160238e-01  0.00000000e+00]\n",
            " [ 7.63031087e-01  2.14747474e+00  1.00000000e+00]\n",
            " [-5.77295108e-01 -6.56094417e-01  0.00000000e+00]\n",
            " [ 1.68724079e-01  2.27789564e+00  1.00000000e+00]\n",
            " [-8.16997509e-01  1.72487354e-01  1.00000000e+00]\n",
            " [-1.73227327e+00 -1.33654369e+00  0.00000000e+00]\n",
            " [ 2.48140043e+00  1.18364061e+00  1.00000000e+00]\n",
            " [ 1.23937574e+00  2.49795960e+00  1.00000000e+00]\n",
            " [-2.35114600e+00  6.16761132e-01  0.00000000e+00]\n",
            " [ 4.36761463e-01 -2.21571667e+00  0.00000000e+00]\n",
            " [ 9.26419237e-02  1.55698239e+00  1.00000000e+00]\n",
            " [-1.09870684e+00 -6.79677111e-01  0.00000000e+00]\n",
            " [-1.71359777e-01 -5.81226651e-01  0.00000000e+00]\n",
            " [-1.54225417e+00 -1.29676447e+00  0.00000000e+00]\n",
            " [ 5.16302583e-01 -7.79585272e-01  0.00000000e+00]\n",
            " [ 4.41942461e-01  3.10294284e-01  1.00000000e+00]\n",
            " [-3.22125066e+00 -1.60081225e+00  0.00000000e+00]\n",
            " [-8.55021118e-01 -3.75056221e-01  0.00000000e+00]\n",
            " [-9.34191151e-01 -1.48398190e+00  0.00000000e+00]\n",
            " [-9.51015422e-01  3.15262060e-01  0.00000000e+00]\n",
            " [ 1.66691385e+00 -1.10119697e+00  1.00000000e+00]\n",
            " [ 1.55235459e-01  9.44767543e-01  1.00000000e+00]\n",
            " [ 7.99266255e-01 -2.57204066e-02  1.00000000e+00]\n",
            " [-7.26586901e-01  1.59442714e+00  1.00000000e+00]\n",
            " [ 1.87017078e+00  1.57264527e+00  1.00000000e+00]\n",
            " [-1.36832650e+00 -8.71785198e-02  0.00000000e+00]\n",
            " [ 2.29478931e+00  1.49599447e-01  1.00000000e+00]\n",
            " [ 2.23387048e+00  7.39448432e-02  1.00000000e+00]\n",
            " [ 1.72031045e+00  1.77507027e+00  1.00000000e+00]\n",
            " [-2.44173388e+00 -1.99457461e-01  0.00000000e+00]\n",
            " [ 6.80502464e-01 -4.81038705e-01  1.00000000e+00]]\n"
          ]
        }
      ]
    },
    {
      "cell_type": "markdown",
      "source": [
        "Разбваем полученный массив на два массива: первый с данными для обучения (Х), второй с метками классов (Т):"
      ],
      "metadata": {
        "id": "01diunGQAMtv"
      }
    },
    {
      "cell_type": "code",
      "source": [
        "X = data[:, [0, 1]]\n",
        "print(X)"
      ],
      "metadata": {
        "colab": {
          "base_uri": "https://localhost:8080/"
        },
        "id": "x-5cB4abf_PA",
        "outputId": "8103f301-75d9-4b11-b336-d43db62328fa"
      },
      "execution_count": null,
      "outputs": [
        {
          "output_type": "stream",
          "name": "stdout",
          "text": [
            "[[ 1.34767594e+00 -2.28069497e+00]\n",
            " [ 1.22669220e+00  2.31431347e+00]\n",
            " [-4.89953319e-02  1.30737973e+00]\n",
            " [ 9.01712979e-01 -6.26785356e-01]\n",
            " [-1.07126978e-01  2.65173088e-01]\n",
            " [-3.24459020e+00 -1.17718463e+00]\n",
            " [ 3.47871780e-01 -9.51394585e-01]\n",
            " [ 1.97499562e+00  2.83105940e-01]\n",
            " [-1.00726621e+00 -2.33754138e+00]\n",
            " [-9.18287377e-01 -1.95662202e+00]\n",
            " [-9.81004701e-01 -1.13331986e+00]\n",
            " [ 1.01743272e+00 -5.15593759e-01]\n",
            " [ 1.58799992e+00 -1.16481525e+00]\n",
            " [ 2.99481210e-01 -4.03655813e-01]\n",
            " [-8.59261878e-01 -2.08972722e+00]\n",
            " [-8.88412622e-01  4.01556507e-01]\n",
            " [-1.20672722e+00 -2.78681701e+00]\n",
            " [-1.58607599e+00 -6.64018218e-02]\n",
            " [-4.96947798e-01 -3.80284331e-01]\n",
            " [-8.52356522e-01  1.28522620e+00]\n",
            " [-2.19483204e+00  7.88265782e-01]\n",
            " [ 1.45712409e-01  1.21157345e+00]\n",
            " [-1.15301539e+00 -3.18309037e-01]\n",
            " [-3.77139445e-01 -2.26068024e+00]\n",
            " [ 1.69957158e+00  1.00602741e+00]\n",
            " [-1.17401435e+00 -3.67263974e-01]\n",
            " [ 8.67430375e-01  7.39118084e-01]\n",
            " [-4.00955613e-01  3.71549132e-01]\n",
            " [ 1.84767774e-01 -8.58889599e-01]\n",
            " [-1.25374818e+00 -3.18231331e-01]\n",
            " [ 2.41992967e+00 -6.73632486e-01]\n",
            " [ 4.07967053e-01 -1.34846750e-01]\n",
            " [-1.78717177e+00  2.13225952e+00]\n",
            " [ 3.02298891e-03 -2.54171465e-01]\n",
            " [-2.15476058e+00 -2.43444442e+00]\n",
            " [ 1.34820714e+00  5.79617099e-01]\n",
            " [-8.83920086e-01 -7.63300571e-01]\n",
            " [-7.21143768e-01  2.63857142e+00]\n",
            " [-2.02164054e+00 -4.36890788e-01]\n",
            " [ 2.05768366e+00  6.55381531e-01]\n",
            " [-1.05590512e+00  9.88350066e-01]\n",
            " [ 9.03295708e-01  7.58379756e-01]\n",
            " [ 3.31780662e-01 -1.20873901e+00]\n",
            " [ 2.18895668e+00  1.13715534e+00]\n",
            " [ 1.66073293e-01  6.12068727e-01]\n",
            " [ 6.96879675e-01  7.03078773e-01]\n",
            " [-2.76934163e-01 -1.16217158e+00]\n",
            " [-1.49467130e+00  7.04982196e-01]\n",
            " [-4.75810610e-01 -1.13017320e-01]\n",
            " [ 1.64422235e+00  7.79170646e-01]\n",
            " [ 1.72794213e+00  5.04805459e-01]\n",
            " [-8.43116725e-01 -2.14690852e+00]\n",
            " [-2.64430371e+00 -1.94730022e+00]\n",
            " [-1.24028702e+00 -2.68018065e+00]\n",
            " [ 2.13863043e+00  1.46398008e+00]\n",
            " [ 1.65313276e+00  1.27045192e+00]\n",
            " [-1.00231636e+00 -1.98582380e+00]\n",
            " [-2.75756347e+00 -1.23692293e+00]\n",
            " [-2.02910568e-01  2.67352192e+00]\n",
            " [-1.43089697e+00 -1.10822749e+00]\n",
            " [ 2.80978837e-01  9.06506703e-01]\n",
            " [-5.85748096e-01  9.86509550e-01]\n",
            " [ 1.34441020e+00  1.10774803e+00]\n",
            " [-1.90185642e+00 -5.48086540e-01]\n",
            " [ 2.89777187e-01  3.73269093e-02]\n",
            " [ 1.29119789e+00  5.52818696e-01]\n",
            " [ 1.36933017e+00  1.09812675e+00]\n",
            " [-2.57200428e-01  1.23325365e+00]\n",
            " [ 2.08160307e+00  1.94336103e-01]\n",
            " [-1.98338374e+00 -1.74160238e-01]\n",
            " [ 7.63031087e-01  2.14747474e+00]\n",
            " [-5.77295108e-01 -6.56094417e-01]\n",
            " [ 1.68724079e-01  2.27789564e+00]\n",
            " [-8.16997509e-01  1.72487354e-01]\n",
            " [-1.73227327e+00 -1.33654369e+00]\n",
            " [ 2.48140043e+00  1.18364061e+00]\n",
            " [ 1.23937574e+00  2.49795960e+00]\n",
            " [-2.35114600e+00  6.16761132e-01]\n",
            " [ 4.36761463e-01 -2.21571667e+00]\n",
            " [ 9.26419237e-02  1.55698239e+00]\n",
            " [-1.09870684e+00 -6.79677111e-01]\n",
            " [-1.71359777e-01 -5.81226651e-01]\n",
            " [-1.54225417e+00 -1.29676447e+00]\n",
            " [ 5.16302583e-01 -7.79585272e-01]\n",
            " [ 4.41942461e-01  3.10294284e-01]\n",
            " [-3.22125066e+00 -1.60081225e+00]\n",
            " [-8.55021118e-01 -3.75056221e-01]\n",
            " [-9.34191151e-01 -1.48398190e+00]\n",
            " [-9.51015422e-01  3.15262060e-01]\n",
            " [ 1.66691385e+00 -1.10119697e+00]\n",
            " [ 1.55235459e-01  9.44767543e-01]\n",
            " [ 7.99266255e-01 -2.57204066e-02]\n",
            " [-7.26586901e-01  1.59442714e+00]\n",
            " [ 1.87017078e+00  1.57264527e+00]\n",
            " [-1.36832650e+00 -8.71785198e-02]\n",
            " [ 2.29478931e+00  1.49599447e-01]\n",
            " [ 2.23387048e+00  7.39448432e-02]\n",
            " [ 1.72031045e+00  1.77507027e+00]\n",
            " [-2.44173388e+00 -1.99457461e-01]\n",
            " [ 6.80502464e-01 -4.81038705e-01]]\n"
          ]
        }
      ]
    },
    {
      "cell_type": "code",
      "source": [
        "T = data[:, [2]]\n",
        "print(T.T)"
      ],
      "metadata": {
        "colab": {
          "base_uri": "https://localhost:8080/"
        },
        "id": "jG1aJ6Gji4ex",
        "outputId": "140daafe-c7eb-4db0-f0d8-5bd92cac1380"
      },
      "execution_count": null,
      "outputs": [
        {
          "output_type": "stream",
          "name": "stdout",
          "text": [
            "[[0. 1. 1. 1. 1. 0. 0. 1. 0. 0. 0. 1. 1. 0. 0. 0. 0. 0. 0. 1. 0. 1. 0. 0.\n",
            "  1. 0. 1. 0. 0. 0. 1. 1. 1. 0. 0. 1. 0. 1. 0. 1. 1. 1. 0. 1. 0. 1. 0. 0.\n",
            "  1. 1. 1. 0. 0. 0. 1. 1. 0. 0. 1. 0. 1. 1. 1. 0. 0. 1. 1. 1. 1. 0. 1. 0.\n",
            "  1. 1. 0. 1. 1. 0. 0. 1. 0. 0. 0. 0. 1. 0. 0. 0. 0. 1. 1. 1. 1. 1. 0. 1.\n",
            "  1. 1. 0. 1.]]\n"
          ]
        }
      ]
    },
    {
      "cell_type": "code",
      "source": [
        "def sigmoid(z): # функция активации сигмоида\n",
        "    return 1./(1+np.exp(-z))"
      ],
      "metadata": {
        "id": "nHvA2JOradtz"
      },
      "execution_count": null,
      "outputs": []
    },
    {
      "cell_type": "markdown",
      "source": [
        "Заменить функцию ошибки MSE на LogLoss."
      ],
      "metadata": {
        "id": "Z5ZG6aEst_W0"
      }
    },
    {
      "cell_type": "code",
      "source": [
        "def log_loss(t, y):\n",
        "    loss = -(y * np.log(t) + (1 - y) * np.log(1-t))\n",
        "    return loss"
      ],
      "metadata": {
        "id": "dx1KbGEdVOZL"
      },
      "execution_count": null,
      "outputs": []
    },
    {
      "cell_type": "code",
      "source": [
        "def diff_log_loss(t, y): # производная функции потерь\n",
        "    return (-y / t) + ((1 - y) / (1 - t))"
      ],
      "metadata": {
        "id": "DidnmNhfmVKz"
      },
      "execution_count": null,
      "outputs": []
    },
    {
      "cell_type": "code",
      "source": [
        "class Layer: # создаем класс \n",
        "    def __init__(self, n_inp, n_out, lr=0.01): # инициализируем необходимые параметры\n",
        "        self.shape = (n_inp, n_out) # кол-во входных и выходных нейронов\n",
        "        self.lr = lr\n",
        "        self.w = np.zeros(self.shape, dtype=np.float32) # инициализируем вектор весов нулями\n",
        "        self.b = np.zeros((1, n_out), dtype=np.float32) # инициализируем bias (смещение) нулем\n",
        "        self._clear_grads()\n",
        "\n",
        "    def _clear_grads(self): # функция очистки градиентов\n",
        "        self.inp = None\n",
        "        self.activations = None\n",
        "        self.d_sigma = None\n",
        "        self.d_w = None\n",
        "        self.d_b = None\n",
        "\n",
        "    def __call__(self, x): # функция прямого прохода\n",
        "        if len(x.shape) == 1:\n",
        "            x = x.reshape(1, -1)\n",
        "        self.inp = x\n",
        "        self.activations = sigmoid(x.dot(self.w) + self.b)\n",
        "        return self.activations\n",
        "\n",
        "    def backward(self, grad): # функция обратного прохода\n",
        "        self.d_sigma = self.activations * (1 - self.activations) # производная сигмоиды\n",
        "        self.d_w = self.grad_w(grad)\n",
        "        self.d_b = self.grad_b(grad)\n",
        "        return self.grad_x(grad)\n",
        "\n",
        "    def grad_w(self, grad): # функции вычисления градиентов\n",
        "        return grad * self.inp.T * self.d_sigma\n",
        "\n",
        "    def grad_b(self, grad):\n",
        "        return grad * self.d_sigma\n",
        "\n",
        "    def grad_x(self, grad):\n",
        "        return self.w.dot(grad) * self.d_sigma\n",
        "\n",
        "    def step(self): # функция обновления весов\n",
        "        self.w -= self.d_w * self.lr\n",
        "        self.b -= self.d_b * self.lr\n",
        "        self._clear_grads()\n",
        "\n",
        "    def bin_result(self, act_out):\n",
        "        if act_out < 0.5:\n",
        "            return 0.0\n",
        "        else:\n",
        "            return 1.0"
      ],
      "metadata": {
        "id": "uFw2darLV2nv"
      },
      "execution_count": null,
      "outputs": []
    },
    {
      "cell_type": "code",
      "source": [
        "l1 = Layer(2, 1) # создаем однослойную нейронную сеть (2 входных нейрона, 1 выходной)"
      ],
      "metadata": {
        "id": "4LwboDXzY7lz"
      },
      "execution_count": null,
      "outputs": []
    },
    {
      "cell_type": "code",
      "source": [
        "l1.shape"
      ],
      "metadata": {
        "colab": {
          "base_uri": "https://localhost:8080/"
        },
        "id": "P7aVRSgRo0Mz",
        "outputId": "d74ebe2a-1826-4a6e-cb98-6aa0f955f20b"
      },
      "execution_count": null,
      "outputs": [
        {
          "output_type": "execute_result",
          "data": {
            "text/plain": [
              "(2, 1)"
            ]
          },
          "metadata": {},
          "execution_count": 30
        }
      ]
    },
    {
      "cell_type": "code",
      "source": [
        "print(l1.w)"
      ],
      "metadata": {
        "colab": {
          "base_uri": "https://localhost:8080/"
        },
        "id": "YV6OhMCbhVVU",
        "outputId": "782fd376-2005-4e81-f825-c57591825c15"
      },
      "execution_count": null,
      "outputs": [
        {
          "output_type": "stream",
          "name": "stdout",
          "text": [
            "[[0.]\n",
            " [0.]]\n"
          ]
        }
      ]
    },
    {
      "cell_type": "markdown",
      "source": [
        "Обучаем модель на примерах из этих распределений \"предсказывать\" 0 и 1 соответственно для первого и второго распределений."
      ],
      "metadata": {
        "id": "RtM5Ny9W2YO8"
      }
    },
    {
      "cell_type": "code",
      "source": [
        "for i in range(10000):\n",
        "    j = 0\n",
        "    for x in X:\n",
        "        y = l1(x)\n",
        "        d_y = diff_log_loss(y, T[j])\n",
        "        l1.backward(d_y)\n",
        "        l1.step()\n",
        "        j += 1"
      ],
      "metadata": {
        "id": "6Vxax0WNZW6L"
      },
      "execution_count": null,
      "outputs": []
    },
    {
      "cell_type": "code",
      "source": [
        "predictions = []\n",
        "for x in X:\n",
        "    predictions.append(l1.bin_result(l1(x)))\n",
        "print(accuracy_score(predictions, T))"
      ],
      "metadata": {
        "colab": {
          "base_uri": "https://localhost:8080/"
        },
        "id": "XJSnnwZNyoGt",
        "outputId": "ce5415cc-3687-4fb9-8f19-031930514561"
      },
      "execution_count": null,
      "outputs": [
        {
          "output_type": "stream",
          "name": "stdout",
          "text": [
            "0.95\n"
          ]
        }
      ]
    },
    {
      "cell_type": "markdown",
      "source": [
        "Используя библиотеку matplotlib нарисуем разделяющую поверхность."
      ],
      "metadata": {
        "id": "fuKYBLtxql3y"
      }
    },
    {
      "cell_type": "code",
      "source": [
        "fig = plt.figure()\n",
        "\n",
        "x0_samples = data_0[:, [0, 1]]\n",
        "x1_samples = data_1[:, [0, 1]]\n",
        "\n",
        "plt.scatter(x0_samples[:,0],x0_samples[:,1], marker='+')\n",
        "plt.scatter(x1_samples[:,0],x1_samples[:,1], c= 'green', marker='o')\n",
        "plt.plot()\n",
        "X_ = np.linspace(-4, 4, 100)\n",
        "Y_ = - l1.w[0][0] /  l1.w[1][0] * X_ + (0.5 - l1.b[0][0]) / l1.w[1][0]\n",
        "plt.plot(X_, Y_, '-r')"
      ],
      "metadata": {
        "id": "x8mCJEKnxpE3",
        "colab": {
          "base_uri": "https://localhost:8080/",
          "height": 282
        },
        "outputId": "959fc57b-f144-4837-9529-d47c4b517eac"
      },
      "execution_count": null,
      "outputs": [
        {
          "output_type": "execute_result",
          "data": {
            "text/plain": [
              "[<matplotlib.lines.Line2D at 0x7fd5598af350>]"
            ]
          },
          "metadata": {},
          "execution_count": 26
        },
        {
          "output_type": "display_data",
          "data": {
            "text/plain": [
              "<Figure size 432x288 with 1 Axes>"
            ],
            "image/png": "[encoded data removed]"
          },
          "metadata": {
            "needs_background": "light"
          }
        }
      ]
    },
    {
      "cell_type": "markdown",
      "source": [
        "**Заменяем однослойную нейронную сеть двухслойной.**\n",
        "\n",
        "Функцию обратного распространения ошибок необходимо переписать так, чтобы мы могли работать исключительно с матрицами, то есть в некоторых местах нужно поменять обычное умножение на матричное."
      ],
      "metadata": {
        "id": "NaHosDB1BPMK"
      }
    },
    {
      "cell_type": "code",
      "source": [
        "class LayerM: # создаем класс \n",
        "    def __init__(self, n_inp, n_out, lr=0.01): # инициализируем необходимые параметры\n",
        "        self.shape = (n_inp, n_out) # кол-во входных и выходных нейронов\n",
        "        self.lr = lr\n",
        "        self.w = np.zeros(self.shape, dtype=np.float32) # инициализируем вектор весов нулями\n",
        "        self.b = np.zeros((1, n_out), dtype=np.float32) # инициализируем bias (смещение) нулем\n",
        "        self._clear_grads()\n",
        "\n",
        "    def _clear_grads(self): # функция очистки градиентов\n",
        "        self.inp = None\n",
        "        self.activations = None\n",
        "        self.d_sigma = None\n",
        "        self.d_w = None\n",
        "        self.d_b = None\n",
        "\n",
        "    def __call__(self, x): # функция прямого прохода\n",
        "        if len(x.shape) == 1:\n",
        "            x = x.reshape(1, -1)\n",
        "        self.inp = x\n",
        "        self.activations = sigmoid(x.dot(self.w) + self.b)\n",
        "        return self.activations\n",
        "\n",
        "    def backward(self, grad): # функция обратного прохода\n",
        "        self.d_sigma = self.activations * (1 - self.activations)\n",
        "        self.delta = grad * self.d_sigma\n",
        "        self.d_w = self.inp.T @ self.delta\n",
        "        self.d_b = self.delta * 1\n",
        "        return np.sum(self.delta @ self.w.T)\n",
        "\n",
        "    def grad_w(self, grad): # функции вычисления градиентов\n",
        "        return grad * self.inp.T * self.d_sigma\n",
        "\n",
        "    def grad_b(self, grad):\n",
        "        return grad * self.d_sigma\n",
        "\n",
        "    def grad_x(self, grad):\n",
        "        return self.w.dot(grad) * self.d_sigma\n",
        "\n",
        "    def step(self): # функция обновления весов\n",
        "        self.w -= self.d_w * self.lr\n",
        "        self.b -= self.d_b * self.lr\n",
        "        self._clear_grads()\n",
        "\n",
        "    def bin_result(self, act_out):\n",
        "        if act_out < 0.5:\n",
        "            return 0.0\n",
        "        else:\n",
        "            return 1.0"
      ],
      "metadata": {
        "id": "DzC-L1Z9JT7B"
      },
      "execution_count": null,
      "outputs": []
    },
    {
      "cell_type": "markdown",
      "source": [
        "Реализация двухслойной сети - это более сложная задача. Подсказка: по сути мы можем отдельно пробрасывать градиент через каждый слой. Сделаем два слоя, например так:\n",
        "\n",
        "lay_1 = Layer(2, 10)\n",
        "\n",
        "lay_2 = Layer(10, 1)\n",
        "\n",
        "И затем последовательно от второго слоя к первому передадим ошибку и сделаем шаг отдельно для второго слоя и отдельно для первого. "
      ],
      "metadata": {
        "id": "g-U0ypsZBl8n"
      }
    },
    {
      "cell_type": "code",
      "source": [
        "l1 = LayerM(2, 10)\n",
        "l2 = LayerM(10, 1)\n",
        "for i in range(5000):\n",
        "    j = 0\n",
        "    for x in X:\n",
        "        y = l1(x)\n",
        "        z = l2(y)\n",
        "        d_z = diff_log_loss(z, T[j])\n",
        "        b2 = l2.backward(d_z)\n",
        "        l1.backward(b2)\n",
        "        l2.step()\n",
        "        l1.step()\n",
        "        j += 1"
      ],
      "metadata": {
        "id": "2g9Nv71KLzGx"
      },
      "execution_count": null,
      "outputs": []
    },
    {
      "cell_type": "code",
      "source": [
        "def two_layers_predict(inp, layers):\n",
        "    layer1, layer2 = layers\n",
        "    h = layer1(inp)\n",
        "    y = layer2(h)\n",
        "    return y"
      ],
      "metadata": {
        "id": "kYVQv-w2M8ne"
      },
      "execution_count": null,
      "outputs": []
    },
    {
      "cell_type": "code",
      "source": [
        "predictions = []\n",
        "for x in X:\n",
        "    predictions.append(l1.bin_result(two_layers_predict(x, (l1, l2))))\n",
        "print(accuracy_score(predictions, T))"
      ],
      "metadata": {
        "colab": {
          "base_uri": "https://localhost:8080/"
        },
        "id": "fNLcFI7TNJXE",
        "outputId": "3a8b819f-0dae-4a12-8fb3-659d76610915"
      },
      "execution_count": null,
      "outputs": [
        {
          "output_type": "stream",
          "name": "stdout",
          "text": [
            "0.95\n"
          ]
        }
      ]
    }
  ]
}