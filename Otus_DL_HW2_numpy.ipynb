{
  "nbformat": 4,
  "nbformat_minor": 0,
  "metadata": {
    "colab": {
      "name": "Otus_HW_numpy_30_05_01-219940-e8e679.ipynb",
      "provenance": [],
      "collapsed_sections": []
    },
    "kernelspec": {
      "name": "python3",
      "display_name": "Python 3"
    },
    "language_info": {
      "name": "python"
    }
  },
  "cells": [
    {
      "cell_type": "markdown",
      "source": [
        "Используя np.random научиться сэмплировать случайные точки из двумерного нормального распределения. В качестве параметров двух разных нормальных распределений взять mu_0=(-1, -1) и mu_1 = (1, 1), с единичными дисперсиями"
      ],
      "metadata": {
        "id": "eBkO6A2sMWNg"
      }
    },
    {
      "cell_type": "code",
      "source": [
        "import numpy as np\n",
        "import matplotlib.pyplot as plt\n",
        "from sklearn.metrics import accuracy_score"
      ],
      "metadata": {
        "id": "MdvTN5mXMcjw"
      },
      "execution_count": 1,
      "outputs": []
    },
    {
      "cell_type": "code",
      "source": [
        "rng = np.random.default_rng()\n",
        "data_0 = np.concatenate([rng.normal((-1, -1), 1, (50, 2)), np.zeros((50, 1))], axis=1)"
      ],
      "metadata": {
        "id": "bCyogweIMz89"
      },
      "execution_count": 2,
      "outputs": []
    },
    {
      "cell_type": "code",
      "source": [
        "rng = np.random.default_rng()\n",
        "data_1 = np.concatenate([rng.normal((1, 1), 1, (50, 2)), np.ones((50, 1))], axis=1)"
      ],
      "metadata": {
        "id": "Gi3CAqqIOpyu"
      },
      "execution_count": 3,
      "outputs": []
    },
    {
      "cell_type": "code",
      "source": [
        "def random_mix(X, Y):\n",
        "    c = np.concatenate((X, Y))\n",
        "    np.random.shuffle(c)\n",
        "    return c"
      ],
      "metadata": {
        "id": "3kJV4Ii4etk-"
      },
      "execution_count": 4,
      "outputs": []
    },
    {
      "cell_type": "code",
      "source": [
        "data = random_mix(data_0, data_1)"
      ],
      "metadata": {
        "id": "4RXC5aGHeyFo"
      },
      "execution_count": 5,
      "outputs": []
    },
    {
      "cell_type": "code",
      "source": [
        "X = data[:, [0, 1]]"
      ],
      "metadata": {
        "id": "x-5cB4abf_PA"
      },
      "execution_count": 6,
      "outputs": []
    },
    {
      "cell_type": "code",
      "source": [
        "T = data[:, [2]]\n",
        "print(T.T)"
      ],
      "metadata": {
        "colab": {
          "base_uri": "https://localhost:8080/"
        },
        "id": "jG1aJ6Gji4ex",
        "outputId": "e80261ec-14c0-467d-fcbe-bf4e7008ce65"
      },
      "execution_count": 7,
      "outputs": [
        {
          "output_type": "stream",
          "name": "stdout",
          "text": [
            "[[1. 1. 1. 1. 0. 0. 0. 0. 0. 1. 1. 1. 0. 0. 0. 0. 1. 0. 0. 0. 0. 1. 0. 1.\n",
            "  0. 1. 0. 1. 1. 0. 1. 1. 0. 0. 0. 0. 0. 0. 1. 1. 1. 0. 0. 1. 0. 0. 1. 1.\n",
            "  0. 1. 0. 0. 1. 1. 1. 1. 1. 1. 0. 1. 1. 0. 0. 0. 0. 0. 0. 0. 0. 1. 1. 1.\n",
            "  1. 1. 0. 0. 0. 1. 0. 1. 1. 0. 0. 1. 1. 1. 1. 1. 1. 0. 1. 1. 1. 0. 1. 1.\n",
            "  1. 0. 0. 0.]]\n"
          ]
        }
      ]
    },
    {
      "cell_type": "code",
      "source": [
        "def sigmoid(z): # функция активации сигмоида\n",
        "    return 1./(1+np.exp(-z))"
      ],
      "metadata": {
        "id": "nHvA2JOradtz"
      },
      "execution_count": 8,
      "outputs": []
    },
    {
      "cell_type": "markdown",
      "source": [
        "Заменить функцию ошибки MSE на LogLoss."
      ],
      "metadata": {
        "id": "Z5ZG6aEst_W0"
      }
    },
    {
      "cell_type": "code",
      "source": [
        "def log_loss(t, y):\n",
        "    loss = -(y * np.log(t) + (1 - y) * np.log(1-t))\n",
        "    return loss"
      ],
      "metadata": {
        "id": "dx1KbGEdVOZL"
      },
      "execution_count": 9,
      "outputs": []
    },
    {
      "cell_type": "code",
      "source": [
        "def diff_log_loss(t, y): # производная функции потерь\n",
        "    return (-y / t) + ((1 - y) / (1 - t))"
      ],
      "metadata": {
        "id": "DidnmNhfmVKz"
      },
      "execution_count": 10,
      "outputs": []
    },
    {
      "cell_type": "code",
      "source": [
        "class Layer: # создаем класс \n",
        "    def __init__(self, n_inp, n_out, lr=0.01): # инициализируем необходимые параметры\n",
        "        self.shape = (n_inp, n_out) # кол-во входных и выходных нейронов\n",
        "        self.lr = lr\n",
        "        self.w = np.zeros(self.shape, dtype=np.float32) # инициализируем вектор весов нулями\n",
        "        self.b = np.zeros((1, n_out), dtype=np.float32) # инициализируем bias (смещение) нулем\n",
        "        self._clear_grads()\n",
        "\n",
        "    def _clear_grads(self): # функция очистки градиентов\n",
        "        self.inp = None\n",
        "        self.activations = None\n",
        "        self.d_sigma = None\n",
        "        self.d_w = None\n",
        "        self.d_b = None\n",
        "\n",
        "    def __call__(self, x): # функция прямого прохода\n",
        "        if len(x.shape) == 1:\n",
        "            x = x.reshape(1, -1)\n",
        "        self.inp = x\n",
        "        self.activations = sigmoid(x.dot(self.w) + self.b)\n",
        "        return self.activations\n",
        "\n",
        "    def backward(self, grad): # функция обратного прохода\n",
        "        self.d_sigma = self.activations * (1 - self.activations) # производная сигмоиды\n",
        "        self.d_w = self.grad_w(grad)\n",
        "        self.d_b = self.grad_b(grad)\n",
        "        return self.grad_x(grad)\n",
        "\n",
        "    def grad_w(self, grad): # функции вычисления градиентов\n",
        "        return grad * self.inp.T * self.d_sigma\n",
        "\n",
        "    def grad_b(self, grad):\n",
        "        return grad * self.d_sigma\n",
        "\n",
        "    def grad_x(self, grad):\n",
        "        return self.w.dot(grad) * self.d_sigma\n",
        "\n",
        "    def step(self): # функция обновления весов\n",
        "        self.w -= self.d_w * self.lr\n",
        "        self.b -= self.d_b * self.lr\n",
        "        self._clear_grads()\n",
        "\n",
        "    def bin_result(self, act_out):\n",
        "        if act_out < 0.5:\n",
        "            return 0.0\n",
        "        else:\n",
        "            return 1.0"
      ],
      "metadata": {
        "id": "uFw2darLV2nv"
      },
      "execution_count": 11,
      "outputs": []
    },
    {
      "cell_type": "code",
      "source": [
        "l1 = Layer(2, 1) # создаем однослойную нейронную сеть (2 входных нейрона, 1 выходной)"
      ],
      "metadata": {
        "id": "4LwboDXzY7lz"
      },
      "execution_count": 12,
      "outputs": []
    },
    {
      "cell_type": "code",
      "source": [
        "l1.shape"
      ],
      "metadata": {
        "colab": {
          "base_uri": "https://localhost:8080/"
        },
        "id": "P7aVRSgRo0Mz",
        "outputId": "5906dc48-e6ac-4f6a-873a-0010023679d1"
      },
      "execution_count": 13,
      "outputs": [
        {
          "output_type": "execute_result",
          "data": {
            "text/plain": [
              "(2, 1)"
            ]
          },
          "metadata": {},
          "execution_count": 13
        }
      ]
    },
    {
      "cell_type": "code",
      "source": [
        "print(l1.w)"
      ],
      "metadata": {
        "colab": {
          "base_uri": "https://localhost:8080/"
        },
        "id": "YV6OhMCbhVVU",
        "outputId": "07c4bb45-e74d-481a-f864-24675179d1a0"
      },
      "execution_count": 14,
      "outputs": [
        {
          "output_type": "stream",
          "name": "stdout",
          "text": [
            "[[0.]\n",
            " [0.]]\n"
          ]
        }
      ]
    },
    {
      "cell_type": "markdown",
      "source": [
        "Обучить модель на примерах из этих распределений \"предсказывать\" 0 и 1 соответственно для первого и второго распределений."
      ],
      "metadata": {
        "id": "RtM5Ny9W2YO8"
      }
    },
    {
      "cell_type": "code",
      "source": [
        "for i in range(10000):\n",
        "    j = 0\n",
        "    for x in X:\n",
        "        y = l1(x)\n",
        "        d_y = diff_log_loss(y, T[j])\n",
        "        l1.backward(d_y)\n",
        "        l1.step()\n",
        "        j += 1"
      ],
      "metadata": {
        "id": "6Vxax0WNZW6L"
      },
      "execution_count": 15,
      "outputs": []
    },
    {
      "cell_type": "code",
      "source": [
        "predictions = []\n",
        "for x in X:\n",
        "    predictions.append(l1.bin_result(l1(x)))\n",
        "print(accuracy_score(predictions, T))"
      ],
      "metadata": {
        "colab": {
          "base_uri": "https://localhost:8080/"
        },
        "id": "XJSnnwZNyoGt",
        "outputId": "d79eea1c-ee6f-4e44-8e34-de020de397a6"
      },
      "execution_count": 16,
      "outputs": [
        {
          "output_type": "stream",
          "name": "stdout",
          "text": [
            "0.96\n"
          ]
        }
      ]
    },
    {
      "cell_type": "markdown",
      "source": [
        "Используя библиотеку matplotlib нарисовать разделяющую поверхность."
      ],
      "metadata": {
        "id": "fuKYBLtxql3y"
      }
    },
    {
      "cell_type": "code",
      "source": [
        "fig = plt.figure()\n",
        "\n",
        "x0_samples = data_0[:, [0, 1]]\n",
        "x1_samples = data_1[:, [0, 1]]\n",
        "\n",
        "plt.scatter(x0_samples[:,0],x0_samples[:,1], marker='+')\n",
        "plt.scatter(x1_samples[:,0],x1_samples[:,1], c= 'green', marker='o')\n",
        "plt.plot()\n",
        "X_ = np.linspace(-4, 4, 100)\n",
        "Y_ = - l1.w[0][0] /  l1.w[1][0] * X_ + (0.5 - l1.b[0][0]) / l1.w[1][0]\n",
        "plt.plot(X_, Y_, '-r')"
      ],
      "metadata": {
        "id": "x8mCJEKnxpE3",
        "colab": {
          "base_uri": "https://localhost:8080/",
          "height": 282
        },
        "outputId": "533deba0-3f45-4c85-9f5d-e595e72cd1e3"
      },
      "execution_count": 17,
      "outputs": [
        {
          "output_type": "execute_result",
          "data": {
            "text/plain": [
              "[<matplotlib.lines.Line2D at 0x7fd195cefd50>]"
            ]
          },
          "metadata": {},
          "execution_count": 17
        },
        {
          "output_type": "display_data",
          "data": {
            "text/plain": [
              "<Figure size 432x288 with 1 Axes>"
            ],
            "image/png": "[encoded data removed]"
          },
          "metadata": {
            "needs_background": "light"
          }
        }
      ]
    },
    {
      "cell_type": "markdown",
      "source": [
        "Заменить однослойную нейронную сеть двухслойной"
      ],
      "metadata": {
        "id": "sDt4_wBgEeUB"
      }
    },
    {
      "cell_type": "code",
      "source": [
        "class LayerM: # создаем класс \n",
        "    def __init__(self, n_inp, n_out, lr=0.01): # инициализируем необходимые параметры\n",
        "        self.shape = (n_inp, n_out) # кол-во входных и выходных нейронов\n",
        "        self.lr = lr\n",
        "        self.w = np.zeros(self.shape, dtype=np.float32) # инициализируем вектор весов нулями\n",
        "        self.b = np.zeros((1, n_out), dtype=np.float32) # инициализируем bias (смещение) нулем\n",
        "        self._clear_grads()\n",
        "\n",
        "    def _clear_grads(self): # функция очистки градиентов\n",
        "        self.inp = None\n",
        "        self.activations = None\n",
        "        self.d_sigma = None\n",
        "        self.d_w = None\n",
        "        self.d_b = None\n",
        "\n",
        "    def __call__(self, x): # функция прямого прохода\n",
        "        if len(x.shape) == 1:\n",
        "            x = x.reshape(1, -1)\n",
        "        self.inp = x\n",
        "        self.activations = sigmoid(x.dot(self.w) + self.b)\n",
        "        return self.activations\n",
        "\n",
        "    def backward(self, grad): # функция обратного прохода\n",
        "        self.d_sigma = self.activations * (1 - self.activations)\n",
        "        self.delta = grad * self.d_sigma\n",
        "        self.d_w = self.inp.T @ self.delta\n",
        "        self.d_b = self.delta * 1\n",
        "        return np.sum(self.delta @ self.w.T)\n",
        "\n",
        "    def grad_w(self, grad): # функции вычисления градиентов\n",
        "        return grad * self.inp.T * self.d_sigma\n",
        "\n",
        "    def grad_b(self, grad):\n",
        "        return grad * self.d_sigma\n",
        "\n",
        "    def grad_x(self, grad):\n",
        "        return self.w.dot(grad) * self.d_sigma\n",
        "\n",
        "    def step(self): # функция обновления весов\n",
        "        self.w -= self.d_w * self.lr\n",
        "        self.b -= self.d_b * self.lr\n",
        "        self._clear_grads()\n",
        "\n",
        "    def bin_result(self, act_out):\n",
        "        if act_out < 0.5:\n",
        "            return 0.0\n",
        "        else:\n",
        "            return 1.0"
      ],
      "metadata": {
        "id": "DzC-L1Z9JT7B"
      },
      "execution_count": 18,
      "outputs": []
    },
    {
      "cell_type": "code",
      "source": [
        "l1 = LayerM(2, 10)\n",
        "l2 = LayerM(10, 1)\n",
        "for i in range(5000):\n",
        "    j = 0\n",
        "    for x in X:\n",
        "        y = l1(x)\n",
        "        z = l2(y)\n",
        "        d_z = diff_log_loss(z, T[j])\n",
        "        b2 = l2.backward(d_z)\n",
        "        l1.backward(b2)\n",
        "        l2.step()\n",
        "        l1.step()\n",
        "        j += 1"
      ],
      "metadata": {
        "id": "2g9Nv71KLzGx"
      },
      "execution_count": 19,
      "outputs": []
    },
    {
      "cell_type": "code",
      "source": [
        "def two_layers_predict(inp, layers):\n",
        "    layer1, layer2 = layers\n",
        "    h = layer1(inp)\n",
        "    y = layer2(h)\n",
        "    return y"
      ],
      "metadata": {
        "id": "kYVQv-w2M8ne"
      },
      "execution_count": 20,
      "outputs": []
    },
    {
      "cell_type": "code",
      "source": [
        "predictions = []\n",
        "for x in X:\n",
        "    predictions.append(l1.bin_result(two_layers_predict(x, (l1, l2))))\n",
        "print(accuracy_score(predictions, T))"
      ],
      "metadata": {
        "colab": {
          "base_uri": "https://localhost:8080/"
        },
        "id": "fNLcFI7TNJXE",
        "outputId": "6f51dc46-e6f1-4d12-9ca5-1d0adbc98393"
      },
      "execution_count": 21,
      "outputs": [
        {
          "output_type": "stream",
          "name": "stdout",
          "text": [
            "0.96\n"
          ]
        }
      ]
    }
  ]
}